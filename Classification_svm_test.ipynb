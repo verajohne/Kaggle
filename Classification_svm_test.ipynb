{
 "cells": [
  {
   "cell_type": "code",
   "execution_count": 2,
   "metadata": {
    "collapsed": true
   },
   "outputs": [],
   "source": [
    "%matplotlib inline\n",
    "import numpy as np\n",
    "import matplotlib.pyplot as plt\n",
    "import sklearn\n",
    "from sklearn.decomposition import PCA\n",
    "from sklearn import svm"
   ]
  },
  {
   "cell_type": "code",
   "execution_count": 61,
   "metadata": {
    "collapsed": false
   },
   "outputs": [],
   "source": [
    "train = np.load('data/class_train_in.npy')\n",
    "label = np.load('data/class_train_out.npy')\n",
    "dp = np.delete(train, 0, 1)\n",
    "lbl = np.delete(label,0,1)\n",
    "lbl = [x[0] for x in lbl.tolist()]\n",
    "trn = dp[0:int(dp.shape[0]*0.8), :]\n",
    "tst = dp[int(dp.shape[0]*0.8):, :]\n",
    "trn_lbl = lbl[0:int(dp.shape[0]*0.8)]\n",
    "tst_lbl = lbl[int(dp.shape[0]*0.8):]\n",
    "#trn = dp[0:50, :]\n",
    "#trn_lbl = lbl[0:50]"
   ]
  },
  {
   "cell_type": "code",
   "execution_count": 1,
   "metadata": {
    "collapsed": false
   },
   "outputs": [
    {
     "ename": "NameError",
     "evalue": "name 'tst_lbl' is not defined",
     "output_type": "error",
     "traceback": [
      "\u001b[0;31m---------------------------------------------------------------------------\u001b[0m",
      "\u001b[0;31mNameError\u001b[0m                                 Traceback (most recent call last)",
      "\u001b[0;32m<ipython-input-1-05e230d42f12>\u001b[0m in \u001b[0;36m<module>\u001b[0;34m()\u001b[0m\n\u001b[0;32m----> 1\u001b[0;31m \u001b[0;32mprint\u001b[0m \u001b[0mlen\u001b[0m\u001b[0;34m(\u001b[0m\u001b[0mtst_lbl\u001b[0m\u001b[0;34m)\u001b[0m\u001b[0;34m,\u001b[0m \u001b[0mtst\u001b[0m\u001b[0;34m.\u001b[0m\u001b[0mshape\u001b[0m\u001b[0;34m\u001b[0m\u001b[0m\n\u001b[0m",
      "\u001b[0;31mNameError\u001b[0m: name 'tst_lbl' is not defined"
     ]
    }
   ],
   "source": [
    "print len(tst_lbl), tst.shape"
   ]
  },
  {
   "cell_type": "code",
   "execution_count": 62,
   "metadata": {
    "collapsed": true
   },
   "outputs": [],
   "source": [
    "C = 1\n",
    "svc = svm.SVC(kernel='linear', C=C).fit(trn, trn_lbl)"
   ]
  },
  {
   "cell_type": "code",
   "execution_count": 63,
   "metadata": {
    "collapsed": false
   },
   "outputs": [],
   "source": [
    "Z = svc.predict(tst)"
   ]
  },
  {
   "cell_type": "code",
   "execution_count": 64,
   "metadata": {
    "collapsed": false
   },
   "outputs": [
    {
     "name": "stdout",
     "output_type": "stream",
     "text": [
      "0.488549618321\n"
     ]
    }
   ],
   "source": [
    "res = Z == np.array(tst_lbl)\n",
    "print np.sum(res)/float(len(tst_lbl))"
   ]
  },
  {
   "cell_type": "code",
   "execution_count": 60,
   "metadata": {
    "collapsed": false
   },
   "outputs": [
    {
     "name": "stdout",
     "output_type": "stream",
     "text": [
      "0.465648854962\n",
      "0.541984732824\n",
      "0.5368956743\n",
      "0.541984732824\n",
      "0.541984732824\n"
     ]
    }
   ],
   "source": [
    "#rbf_svc = svm.SVC(kernel='rbf', gamma=0.7, C=C).fit(trn, trn_lbl)\n",
    "for d in range(0,5):\n",
    "    rbf_svc = svm.SVC(kernel='poly', degree=d, C=C).fit(trn, trn_lbl)\n",
    "    Z = rbf_svc.predict(tst)\n",
    "    res = Z == np.array(tst_lbl)\n",
    "    print np.sum(res)/float(len(tst_lbl))"
   ]
  },
  {
   "cell_type": "code",
   "execution_count": 45,
   "metadata": {
    "collapsed": false
   },
   "outputs": [
    {
     "name": "stdout",
     "output_type": "stream",
     "text": [
      "0.473282442748\n"
     ]
    }
   ],
   "source": [
    "Z = rbf_svc.predict(tst)\n",
    "res = Z == np.array(tst_lbl)\n",
    "print np.sum(res)/float(len(tst_lbl))"
   ]
  },
  {
   "cell_type": "code",
   "execution_count": null,
   "metadata": {
    "collapsed": true
   },
   "outputs": [],
   "source": [
    "svc = svm.SVC(kernel='linear', C=C).fit(X, y)\n",
    "rbf_svc = svm.SVC(kernel='rbf', gamma=0.7, C=C).fit(X, y)\n",
    "poly_svc = svm.SVC(kernel='poly', degree=3, C=C).fit(X, y)\n",
    "lin_svc = svm.LinearSVC(C=C).fit(X, y)"
   ]
  }
 ],
 "metadata": {
  "kernelspec": {
   "display_name": "Python 2",
   "language": "python",
   "name": "python2"
  },
  "language_info": {
   "codemirror_mode": {
    "name": "ipython",
    "version": 2
   },
   "file_extension": ".py",
   "mimetype": "text/x-python",
   "name": "python",
   "nbconvert_exporter": "python",
   "pygments_lexer": "ipython2",
   "version": "2.7.10"
  }
 },
 "nbformat": 4,
 "nbformat_minor": 0
}
